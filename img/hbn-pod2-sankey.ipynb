{
 "cells": [
  {
   "cell_type": "code",
   "execution_count": 1,
   "id": "a630a648",
   "metadata": {},
   "outputs": [],
   "source": [
    "import pandas as pd\n",
    "import plotly.graph_objects as go"
   ]
  },
  {
   "cell_type": "code",
   "execution_count": 3,
   "id": "1d445e3f",
   "metadata": {},
   "outputs": [
    {
     "data": {
      "application/vnd.plotly.v1+json": {
       "config": {
        "plotlyServerURL": "https://plot.ly"
       },
       "data": [
        {
         "link": {
          "source": [
           0,
           1,
           1,
           0,
           2,
           3,
           2,
           4,
           2
          ],
          "target": [
           1,
           2,
           6,
           6,
           3,
           4,
           4,
           5,
           5
          ],
          "value": [
           2615,
           2136,
           479,
           132,
           200,
           200,
           1453,
           1653,
           483
          ]
         },
         "node": {
          "label": [
           "Raw (2,747)",
           "BIDS pass (2,615)",
           "Preproc pass (2,136)",
           "Expert QC (200)",
           "Community QC (1,653)",
           "NN QC (2,136)",
           "Excluded (611)"
          ],
          "line": {
           "color": "black",
           "width": 0.5
          },
          "pad": 50,
          "thickness": 25,
          "x": [
           0.019470404984423675,
           0.21168224299065422,
           0.37741433021806853,
           0.5665109034267914,
           0.5920560747663551,
           1.088006230529595,
           0.9805295950155763
          ],
          "y": [
           0.4957063671702312,
           0.4875043289720106,
           0.3449968016158821,
           0.6958794365955173,
           0.3695530865360665,
           0.13079116214697334,
           0.9196800550095053
          ]
         },
         "textfont": {
          "color": "black",
          "size": 32
         },
         "type": "sankey"
        }
       ],
       "layout": {
        "autosize": true,
        "font": {
         "size": 12
        },
        "template": {
         "data": {
          "bar": [
           {
            "error_x": {
             "color": "#2a3f5f"
            },
            "error_y": {
             "color": "#2a3f5f"
            },
            "marker": {
             "line": {
              "color": "#E5ECF6",
              "width": 0.5
             },
             "pattern": {
              "fillmode": "overlay",
              "size": 10,
              "solidity": 0.2
             }
            },
            "type": "bar"
           }
          ],
          "barpolar": [
           {
            "marker": {
             "line": {
              "color": "#E5ECF6",
              "width": 0.5
             },
             "pattern": {
              "fillmode": "overlay",
              "size": 10,
              "solidity": 0.2
             }
            },
            "type": "barpolar"
           }
          ],
          "carpet": [
           {
            "aaxis": {
             "endlinecolor": "#2a3f5f",
             "gridcolor": "white",
             "linecolor": "white",
             "minorgridcolor": "white",
             "startlinecolor": "#2a3f5f"
            },
            "baxis": {
             "endlinecolor": "#2a3f5f",
             "gridcolor": "white",
             "linecolor": "white",
             "minorgridcolor": "white",
             "startlinecolor": "#2a3f5f"
            },
            "type": "carpet"
           }
          ],
          "choropleth": [
           {
            "colorbar": {
             "outlinewidth": 0,
             "ticks": ""
            },
            "type": "choropleth"
           }
          ],
          "contour": [
           {
            "colorbar": {
             "outlinewidth": 0,
             "ticks": ""
            },
            "colorscale": [
             [
              0,
              "#0d0887"
             ],
             [
              0.1111111111111111,
              "#46039f"
             ],
             [
              0.2222222222222222,
              "#7201a8"
             ],
             [
              0.3333333333333333,
              "#9c179e"
             ],
             [
              0.4444444444444444,
              "#bd3786"
             ],
             [
              0.5555555555555556,
              "#d8576b"
             ],
             [
              0.6666666666666666,
              "#ed7953"
             ],
             [
              0.7777777777777778,
              "#fb9f3a"
             ],
             [
              0.8888888888888888,
              "#fdca26"
             ],
             [
              1,
              "#f0f921"
             ]
            ],
            "type": "contour"
           }
          ],
          "contourcarpet": [
           {
            "colorbar": {
             "outlinewidth": 0,
             "ticks": ""
            },
            "type": "contourcarpet"
           }
          ],
          "heatmap": [
           {
            "colorbar": {
             "outlinewidth": 0,
             "ticks": ""
            },
            "colorscale": [
             [
              0,
              "#0d0887"
             ],
             [
              0.1111111111111111,
              "#46039f"
             ],
             [
              0.2222222222222222,
              "#7201a8"
             ],
             [
              0.3333333333333333,
              "#9c179e"
             ],
             [
              0.4444444444444444,
              "#bd3786"
             ],
             [
              0.5555555555555556,
              "#d8576b"
             ],
             [
              0.6666666666666666,
              "#ed7953"
             ],
             [
              0.7777777777777778,
              "#fb9f3a"
             ],
             [
              0.8888888888888888,
              "#fdca26"
             ],
             [
              1,
              "#f0f921"
             ]
            ],
            "type": "heatmap"
           }
          ],
          "heatmapgl": [
           {
            "colorbar": {
             "outlinewidth": 0,
             "ticks": ""
            },
            "colorscale": [
             [
              0,
              "#0d0887"
             ],
             [
              0.1111111111111111,
              "#46039f"
             ],
             [
              0.2222222222222222,
              "#7201a8"
             ],
             [
              0.3333333333333333,
              "#9c179e"
             ],
             [
              0.4444444444444444,
              "#bd3786"
             ],
             [
              0.5555555555555556,
              "#d8576b"
             ],
             [
              0.6666666666666666,
              "#ed7953"
             ],
             [
              0.7777777777777778,
              "#fb9f3a"
             ],
             [
              0.8888888888888888,
              "#fdca26"
             ],
             [
              1,
              "#f0f921"
             ]
            ],
            "type": "heatmapgl"
           }
          ],
          "histogram": [
           {
            "marker": {
             "pattern": {
              "fillmode": "overlay",
              "size": 10,
              "solidity": 0.2
             }
            },
            "type": "histogram"
           }
          ],
          "histogram2d": [
           {
            "colorbar": {
             "outlinewidth": 0,
             "ticks": ""
            },
            "colorscale": [
             [
              0,
              "#0d0887"
             ],
             [
              0.1111111111111111,
              "#46039f"
             ],
             [
              0.2222222222222222,
              "#7201a8"
             ],
             [
              0.3333333333333333,
              "#9c179e"
             ],
             [
              0.4444444444444444,
              "#bd3786"
             ],
             [
              0.5555555555555556,
              "#d8576b"
             ],
             [
              0.6666666666666666,
              "#ed7953"
             ],
             [
              0.7777777777777778,
              "#fb9f3a"
             ],
             [
              0.8888888888888888,
              "#fdca26"
             ],
             [
              1,
              "#f0f921"
             ]
            ],
            "type": "histogram2d"
           }
          ],
          "histogram2dcontour": [
           {
            "colorbar": {
             "outlinewidth": 0,
             "ticks": ""
            },
            "colorscale": [
             [
              0,
              "#0d0887"
             ],
             [
              0.1111111111111111,
              "#46039f"
             ],
             [
              0.2222222222222222,
              "#7201a8"
             ],
             [
              0.3333333333333333,
              "#9c179e"
             ],
             [
              0.4444444444444444,
              "#bd3786"
             ],
             [
              0.5555555555555556,
              "#d8576b"
             ],
             [
              0.6666666666666666,
              "#ed7953"
             ],
             [
              0.7777777777777778,
              "#fb9f3a"
             ],
             [
              0.8888888888888888,
              "#fdca26"
             ],
             [
              1,
              "#f0f921"
             ]
            ],
            "type": "histogram2dcontour"
           }
          ],
          "mesh3d": [
           {
            "colorbar": {
             "outlinewidth": 0,
             "ticks": ""
            },
            "type": "mesh3d"
           }
          ],
          "parcoords": [
           {
            "line": {
             "colorbar": {
              "outlinewidth": 0,
              "ticks": ""
             }
            },
            "type": "parcoords"
           }
          ],
          "pie": [
           {
            "automargin": true,
            "type": "pie"
           }
          ],
          "scatter": [
           {
            "marker": {
             "colorbar": {
              "outlinewidth": 0,
              "ticks": ""
             }
            },
            "type": "scatter"
           }
          ],
          "scatter3d": [
           {
            "line": {
             "colorbar": {
              "outlinewidth": 0,
              "ticks": ""
             }
            },
            "marker": {
             "colorbar": {
              "outlinewidth": 0,
              "ticks": ""
             }
            },
            "type": "scatter3d"
           }
          ],
          "scattercarpet": [
           {
            "marker": {
             "colorbar": {
              "outlinewidth": 0,
              "ticks": ""
             }
            },
            "type": "scattercarpet"
           }
          ],
          "scattergeo": [
           {
            "marker": {
             "colorbar": {
              "outlinewidth": 0,
              "ticks": ""
             }
            },
            "type": "scattergeo"
           }
          ],
          "scattergl": [
           {
            "marker": {
             "colorbar": {
              "outlinewidth": 0,
              "ticks": ""
             }
            },
            "type": "scattergl"
           }
          ],
          "scattermapbox": [
           {
            "marker": {
             "colorbar": {
              "outlinewidth": 0,
              "ticks": ""
             }
            },
            "type": "scattermapbox"
           }
          ],
          "scatterpolar": [
           {
            "marker": {
             "colorbar": {
              "outlinewidth": 0,
              "ticks": ""
             }
            },
            "type": "scatterpolar"
           }
          ],
          "scatterpolargl": [
           {
            "marker": {
             "colorbar": {
              "outlinewidth": 0,
              "ticks": ""
             }
            },
            "type": "scatterpolargl"
           }
          ],
          "scatterternary": [
           {
            "marker": {
             "colorbar": {
              "outlinewidth": 0,
              "ticks": ""
             }
            },
            "type": "scatterternary"
           }
          ],
          "surface": [
           {
            "colorbar": {
             "outlinewidth": 0,
             "ticks": ""
            },
            "colorscale": [
             [
              0,
              "#0d0887"
             ],
             [
              0.1111111111111111,
              "#46039f"
             ],
             [
              0.2222222222222222,
              "#7201a8"
             ],
             [
              0.3333333333333333,
              "#9c179e"
             ],
             [
              0.4444444444444444,
              "#bd3786"
             ],
             [
              0.5555555555555556,
              "#d8576b"
             ],
             [
              0.6666666666666666,
              "#ed7953"
             ],
             [
              0.7777777777777778,
              "#fb9f3a"
             ],
             [
              0.8888888888888888,
              "#fdca26"
             ],
             [
              1,
              "#f0f921"
             ]
            ],
            "type": "surface"
           }
          ],
          "table": [
           {
            "cells": {
             "fill": {
              "color": "#EBF0F8"
             },
             "line": {
              "color": "white"
             }
            },
            "header": {
             "fill": {
              "color": "#C8D4E3"
             },
             "line": {
              "color": "white"
             }
            },
            "type": "table"
           }
          ]
         },
         "layout": {
          "annotationdefaults": {
           "arrowcolor": "#2a3f5f",
           "arrowhead": 0,
           "arrowwidth": 1
          },
          "autotypenumbers": "strict",
          "coloraxis": {
           "colorbar": {
            "outlinewidth": 0,
            "ticks": ""
           }
          },
          "colorscale": {
           "diverging": [
            [
             0,
             "#8e0152"
            ],
            [
             0.1,
             "#c51b7d"
            ],
            [
             0.2,
             "#de77ae"
            ],
            [
             0.3,
             "#f1b6da"
            ],
            [
             0.4,
             "#fde0ef"
            ],
            [
             0.5,
             "#f7f7f7"
            ],
            [
             0.6,
             "#e6f5d0"
            ],
            [
             0.7,
             "#b8e186"
            ],
            [
             0.8,
             "#7fbc41"
            ],
            [
             0.9,
             "#4d9221"
            ],
            [
             1,
             "#276419"
            ]
           ],
           "sequential": [
            [
             0,
             "#0d0887"
            ],
            [
             0.1111111111111111,
             "#46039f"
            ],
            [
             0.2222222222222222,
             "#7201a8"
            ],
            [
             0.3333333333333333,
             "#9c179e"
            ],
            [
             0.4444444444444444,
             "#bd3786"
            ],
            [
             0.5555555555555556,
             "#d8576b"
            ],
            [
             0.6666666666666666,
             "#ed7953"
            ],
            [
             0.7777777777777778,
             "#fb9f3a"
            ],
            [
             0.8888888888888888,
             "#fdca26"
            ],
            [
             1,
             "#f0f921"
            ]
           ],
           "sequentialminus": [
            [
             0,
             "#0d0887"
            ],
            [
             0.1111111111111111,
             "#46039f"
            ],
            [
             0.2222222222222222,
             "#7201a8"
            ],
            [
             0.3333333333333333,
             "#9c179e"
            ],
            [
             0.4444444444444444,
             "#bd3786"
            ],
            [
             0.5555555555555556,
             "#d8576b"
            ],
            [
             0.6666666666666666,
             "#ed7953"
            ],
            [
             0.7777777777777778,
             "#fb9f3a"
            ],
            [
             0.8888888888888888,
             "#fdca26"
            ],
            [
             1,
             "#f0f921"
            ]
           ]
          },
          "colorway": [
           "#636efa",
           "#EF553B",
           "#00cc96",
           "#ab63fa",
           "#FFA15A",
           "#19d3f3",
           "#FF6692",
           "#B6E880",
           "#FF97FF",
           "#FECB52"
          ],
          "font": {
           "color": "#2a3f5f"
          },
          "geo": {
           "bgcolor": "white",
           "lakecolor": "white",
           "landcolor": "#E5ECF6",
           "showlakes": true,
           "showland": true,
           "subunitcolor": "white"
          },
          "hoverlabel": {
           "align": "left"
          },
          "hovermode": "closest",
          "mapbox": {
           "style": "light"
          },
          "paper_bgcolor": "white",
          "plot_bgcolor": "#E5ECF6",
          "polar": {
           "angularaxis": {
            "gridcolor": "white",
            "linecolor": "white",
            "ticks": ""
           },
           "bgcolor": "#E5ECF6",
           "radialaxis": {
            "gridcolor": "white",
            "linecolor": "white",
            "ticks": ""
           }
          },
          "scene": {
           "xaxis": {
            "backgroundcolor": "#E5ECF6",
            "gridcolor": "white",
            "gridwidth": 2,
            "linecolor": "white",
            "showbackground": true,
            "ticks": "",
            "zerolinecolor": "white"
           },
           "yaxis": {
            "backgroundcolor": "#E5ECF6",
            "gridcolor": "white",
            "gridwidth": 2,
            "linecolor": "white",
            "showbackground": true,
            "ticks": "",
            "zerolinecolor": "white"
           },
           "zaxis": {
            "backgroundcolor": "#E5ECF6",
            "gridcolor": "white",
            "gridwidth": 2,
            "linecolor": "white",
            "showbackground": true,
            "ticks": "",
            "zerolinecolor": "white"
           }
          },
          "shapedefaults": {
           "line": {
            "color": "#2a3f5f"
           }
          },
          "ternary": {
           "aaxis": {
            "gridcolor": "white",
            "linecolor": "white",
            "ticks": ""
           },
           "baxis": {
            "gridcolor": "white",
            "linecolor": "white",
            "ticks": ""
           },
           "bgcolor": "#E5ECF6",
           "caxis": {
            "gridcolor": "white",
            "linecolor": "white",
            "ticks": ""
           }
          },
          "title": {
           "x": 0.05
          },
          "xaxis": {
           "automargin": true,
           "gridcolor": "white",
           "linecolor": "white",
           "ticks": "",
           "title": {
            "standoff": 15
           },
           "zerolinecolor": "white",
           "zerolinewidth": 2
          },
          "yaxis": {
           "automargin": true,
           "gridcolor": "white",
           "linecolor": "white",
           "ticks": "",
           "title": {
            "standoff": 15
           },
           "zerolinecolor": "white",
           "zerolinewidth": 2
          }
         }
        },
        "title": {
         "text": "HBN-POD2 Data Workflow"
        }
       }
      },
      "image/png": "[encoded data removed]",
      "text/html": [
       "<div>                            <div id=\"ebdeb0fb-6ce9-4621-ba5b-22dbea6aa56c\" class=\"plotly-graph-div\" style=\"height:525px; width:100%;\"></div>            <script type=\"text/javascript\">                require([\"plotly\"], function(Plotly) {                    window.PLOTLYENV=window.PLOTLYENV || {};                                    if (document.getElementById(\"ebdeb0fb-6ce9-4621-ba5b-22dbea6aa56c\")) {                    Plotly.newPlot(                        \"ebdeb0fb-6ce9-4621-ba5b-22dbea6aa56c\",                        [{\"link\":{\"source\":[0,1,1,0,2,3,2,4,2],\"target\":[1,2,6,6,3,4,4,5,5],\"value\":[2615,2136,479,132,200,200,1453,1653,483]},\"node\":{\"label\":[\"Raw (2,747)\",\"BIDS pass (2,615)\",\"Preproc pass (2,136)\",\"Expert QC (200)\",\"Community QC (1,653)\",\"NN QC (2,136)\",\"Excluded (611)\"],\"line\":{\"color\":\"black\",\"width\":0.5},\"pad\":50,\"thickness\":25},\"textfont\":{\"color\":\"black\",\"size\":32},\"type\":\"sankey\"}],                        {\"font\":{\"size\":12},\"template\":{\"data\":{\"bar\":[{\"error_x\":{\"color\":\"#2a3f5f\"},\"error_y\":{\"color\":\"#2a3f5f\"},\"marker\":{\"line\":{\"color\":\"#E5ECF6\",\"width\":0.5},\"pattern\":{\"fillmode\":\"overlay\",\"size\":10,\"solidity\":0.2}},\"type\":\"bar\"}],\"barpolar\":[{\"marker\":{\"line\":{\"color\":\"#E5ECF6\",\"width\":0.5},\"pattern\":{\"fillmode\":\"overlay\",\"size\":10,\"solidity\":0.2}},\"type\":\"barpolar\"}],\"carpet\":[{\"aaxis\":{\"endlinecolor\":\"#2a3f5f\",\"gridcolor\":\"white\",\"linecolor\":\"white\",\"minorgridcolor\":\"white\",\"startlinecolor\":\"#2a3f5f\"},\"baxis\":{\"endlinecolor\":\"#2a3f5f\",\"gridcolor\":\"white\",\"linecolor\":\"white\",\"minorgridcolor\":\"white\",\"startlinecolor\":\"#2a3f5f\"},\"type\":\"carpet\"}],\"choropleth\":[{\"colorbar\":{\"outlinewidth\":0,\"ticks\":\"\"},\"type\":\"choropleth\"}],\"contour\":[{\"colorbar\":{\"outlinewidth\":0,\"ticks\":\"\"},\"colorscale\":[[0.0,\"#0d0887\"],[0.1111111111111111,\"#46039f\"],[0.2222222222222222,\"#7201a8\"],[0.3333333333333333,\"#9c179e\"],[0.4444444444444444,\"#bd3786\"],[0.5555555555555556,\"#d8576b\"],[0.6666666666666666,\"#ed7953\"],[0.7777777777777778,\"#fb9f3a\"],[0.8888888888888888,\"#fdca26\"],[1.0,\"#f0f921\"]],\"type\":\"contour\"}],\"contourcarpet\":[{\"colorbar\":{\"outlinewidth\":0,\"ticks\":\"\"},\"type\":\"contourcarpet\"}],\"heatmap\":[{\"colorbar\":{\"outlinewidth\":0,\"ticks\":\"\"},\"colorscale\":[[0.0,\"#0d0887\"],[0.1111111111111111,\"#46039f\"],[0.2222222222222222,\"#7201a8\"],[0.3333333333333333,\"#9c179e\"],[0.4444444444444444,\"#bd3786\"],[0.5555555555555556,\"#d8576b\"],[0.6666666666666666,\"#ed7953\"],[0.7777777777777778,\"#fb9f3a\"],[0.8888888888888888,\"#fdca26\"],[1.0,\"#f0f921\"]],\"type\":\"heatmap\"}],\"heatmapgl\":[{\"colorbar\":{\"outlinewidth\":0,\"ticks\":\"\"},\"colorscale\":[[0.0,\"#0d0887\"],[0.1111111111111111,\"#46039f\"],[0.2222222222222222,\"#7201a8\"],[0.3333333333333333,\"#9c179e\"],[0.4444444444444444,\"#bd3786\"],[0.5555555555555556,\"#d8576b\"],[0.6666666666666666,\"#ed7953\"],[0.7777777777777778,\"#fb9f3a\"],[0.8888888888888888,\"#fdca26\"],[1.0,\"#f0f921\"]],\"type\":\"heatmapgl\"}],\"histogram\":[{\"marker\":{\"pattern\":{\"fillmode\":\"overlay\",\"size\":10,\"solidity\":0.2}},\"type\":\"histogram\"}],\"histogram2d\":[{\"colorbar\":{\"outlinewidth\":0,\"ticks\":\"\"},\"colorscale\":[[0.0,\"#0d0887\"],[0.1111111111111111,\"#46039f\"],[0.2222222222222222,\"#7201a8\"],[0.3333333333333333,\"#9c179e\"],[0.4444444444444444,\"#bd3786\"],[0.5555555555555556,\"#d8576b\"],[0.6666666666666666,\"#ed7953\"],[0.7777777777777778,\"#fb9f3a\"],[0.8888888888888888,\"#fdca26\"],[1.0,\"#f0f921\"]],\"type\":\"histogram2d\"}],\"histogram2dcontour\":[{\"colorbar\":{\"outlinewidth\":0,\"ticks\":\"\"},\"colorscale\":[[0.0,\"#0d0887\"],[0.1111111111111111,\"#46039f\"],[0.2222222222222222,\"#7201a8\"],[0.3333333333333333,\"#9c179e\"],[0.4444444444444444,\"#bd3786\"],[0.5555555555555556,\"#d8576b\"],[0.6666666666666666,\"#ed7953\"],[0.7777777777777778,\"#fb9f3a\"],[0.8888888888888888,\"#fdca26\"],[1.0,\"#f0f921\"]],\"type\":\"histogram2dcontour\"}],\"mesh3d\":[{\"colorbar\":{\"outlinewidth\":0,\"ticks\":\"\"},\"type\":\"mesh3d\"}],\"parcoords\":[{\"line\":{\"colorbar\":{\"outlinewidth\":0,\"ticks\":\"\"}},\"type\":\"parcoords\"}],\"pie\":[{\"automargin\":true,\"type\":\"pie\"}],\"scatter\":[{\"marker\":{\"colorbar\":{\"outlinewidth\":0,\"ticks\":\"\"}},\"type\":\"scatter\"}],\"scatter3d\":[{\"line\":{\"colorbar\":{\"outlinewidth\":0,\"ticks\":\"\"}},\"marker\":{\"colorbar\":{\"outlinewidth\":0,\"ticks\":\"\"}},\"type\":\"scatter3d\"}],\"scattercarpet\":[{\"marker\":{\"colorbar\":{\"outlinewidth\":0,\"ticks\":\"\"}},\"type\":\"scattercarpet\"}],\"scattergeo\":[{\"marker\":{\"colorbar\":{\"outlinewidth\":0,\"ticks\":\"\"}},\"type\":\"scattergeo\"}],\"scattergl\":[{\"marker\":{\"colorbar\":{\"outlinewidth\":0,\"ticks\":\"\"}},\"type\":\"scattergl\"}],\"scattermapbox\":[{\"marker\":{\"colorbar\":{\"outlinewidth\":0,\"ticks\":\"\"}},\"type\":\"scattermapbox\"}],\"scatterpolar\":[{\"marker\":{\"colorbar\":{\"outlinewidth\":0,\"ticks\":\"\"}},\"type\":\"scatterpolar\"}],\"scatterpolargl\":[{\"marker\":{\"colorbar\":{\"outlinewidth\":0,\"ticks\":\"\"}},\"type\":\"scatterpolargl\"}],\"scatterternary\":[{\"marker\":{\"colorbar\":{\"outlinewidth\":0,\"ticks\":\"\"}},\"type\":\"scatterternary\"}],\"surface\":[{\"colorbar\":{\"outlinewidth\":0,\"ticks\":\"\"},\"colorscale\":[[0.0,\"#0d0887\"],[0.1111111111111111,\"#46039f\"],[0.2222222222222222,\"#7201a8\"],[0.3333333333333333,\"#9c179e\"],[0.4444444444444444,\"#bd3786\"],[0.5555555555555556,\"#d8576b\"],[0.6666666666666666,\"#ed7953\"],[0.7777777777777778,\"#fb9f3a\"],[0.8888888888888888,\"#fdca26\"],[1.0,\"#f0f921\"]],\"type\":\"surface\"}],\"table\":[{\"cells\":{\"fill\":{\"color\":\"#EBF0F8\"},\"line\":{\"color\":\"white\"}},\"header\":{\"fill\":{\"color\":\"#C8D4E3\"},\"line\":{\"color\":\"white\"}},\"type\":\"table\"}]},\"layout\":{\"annotationdefaults\":{\"arrowcolor\":\"#2a3f5f\",\"arrowhead\":0,\"arrowwidth\":1},\"autotypenumbers\":\"strict\",\"coloraxis\":{\"colorbar\":{\"outlinewidth\":0,\"ticks\":\"\"}},\"colorscale\":{\"diverging\":[[0,\"#8e0152\"],[0.1,\"#c51b7d\"],[0.2,\"#de77ae\"],[0.3,\"#f1b6da\"],[0.4,\"#fde0ef\"],[0.5,\"#f7f7f7\"],[0.6,\"#e6f5d0\"],[0.7,\"#b8e186\"],[0.8,\"#7fbc41\"],[0.9,\"#4d9221\"],[1,\"#276419\"]],\"sequential\":[[0.0,\"#0d0887\"],[0.1111111111111111,\"#46039f\"],[0.2222222222222222,\"#7201a8\"],[0.3333333333333333,\"#9c179e\"],[0.4444444444444444,\"#bd3786\"],[0.5555555555555556,\"#d8576b\"],[0.6666666666666666,\"#ed7953\"],[0.7777777777777778,\"#fb9f3a\"],[0.8888888888888888,\"#fdca26\"],[1.0,\"#f0f921\"]],\"sequentialminus\":[[0.0,\"#0d0887\"],[0.1111111111111111,\"#46039f\"],[0.2222222222222222,\"#7201a8\"],[0.3333333333333333,\"#9c179e\"],[0.4444444444444444,\"#bd3786\"],[0.5555555555555556,\"#d8576b\"],[0.6666666666666666,\"#ed7953\"],[0.7777777777777778,\"#fb9f3a\"],[0.8888888888888888,\"#fdca26\"],[1.0,\"#f0f921\"]]},\"colorway\":[\"#636efa\",\"#EF553B\",\"#00cc96\",\"#ab63fa\",\"#FFA15A\",\"#19d3f3\",\"#FF6692\",\"#B6E880\",\"#FF97FF\",\"#FECB52\"],\"font\":{\"color\":\"#2a3f5f\"},\"geo\":{\"bgcolor\":\"white\",\"lakecolor\":\"white\",\"landcolor\":\"#E5ECF6\",\"showlakes\":true,\"showland\":true,\"subunitcolor\":\"white\"},\"hoverlabel\":{\"align\":\"left\"},\"hovermode\":\"closest\",\"mapbox\":{\"style\":\"light\"},\"paper_bgcolor\":\"white\",\"plot_bgcolor\":\"#E5ECF6\",\"polar\":{\"angularaxis\":{\"gridcolor\":\"white\",\"linecolor\":\"white\",\"ticks\":\"\"},\"bgcolor\":\"#E5ECF6\",\"radialaxis\":{\"gridcolor\":\"white\",\"linecolor\":\"white\",\"ticks\":\"\"}},\"scene\":{\"xaxis\":{\"backgroundcolor\":\"#E5ECF6\",\"gridcolor\":\"white\",\"gridwidth\":2,\"linecolor\":\"white\",\"showbackground\":true,\"ticks\":\"\",\"zerolinecolor\":\"white\"},\"yaxis\":{\"backgroundcolor\":\"#E5ECF6\",\"gridcolor\":\"white\",\"gridwidth\":2,\"linecolor\":\"white\",\"showbackground\":true,\"ticks\":\"\",\"zerolinecolor\":\"white\"},\"zaxis\":{\"backgroundcolor\":\"#E5ECF6\",\"gridcolor\":\"white\",\"gridwidth\":2,\"linecolor\":\"white\",\"showbackground\":true,\"ticks\":\"\",\"zerolinecolor\":\"white\"}},\"shapedefaults\":{\"line\":{\"color\":\"#2a3f5f\"}},\"ternary\":{\"aaxis\":{\"gridcolor\":\"white\",\"linecolor\":\"white\",\"ticks\":\"\"},\"baxis\":{\"gridcolor\":\"white\",\"linecolor\":\"white\",\"ticks\":\"\"},\"bgcolor\":\"#E5ECF6\",\"caxis\":{\"gridcolor\":\"white\",\"linecolor\":\"white\",\"ticks\":\"\"}},\"title\":{\"x\":0.05},\"xaxis\":{\"automargin\":true,\"gridcolor\":\"white\",\"linecolor\":\"white\",\"ticks\":\"\",\"title\":{\"standoff\":15},\"zerolinecolor\":\"white\",\"zerolinewidth\":2},\"yaxis\":{\"automargin\":true,\"gridcolor\":\"white\",\"linecolor\":\"white\",\"ticks\":\"\",\"title\":{\"standoff\":15},\"zerolinecolor\":\"white\",\"zerolinewidth\":2}}},\"title\":{\"text\":\"HBN-POD2 Data Workflow\"}},                        {\"responsive\": true}                    ).then(function(){\n",
       "                            \n",
       "var gd = document.getElementById('ebdeb0fb-6ce9-4621-ba5b-22dbea6aa56c');\n",
       "var x = new MutationObserver(function (mutations, observer) {{\n",
       "        var display = window.getComputedStyle(gd).display;\n",
       "        if (!display || display === 'none') {{\n",
       "            console.log([gd, 'removed!']);\n",
       "            Plotly.purge(gd);\n",
       "            observer.disconnect();\n",
       "        }}\n",
       "}});\n",
       "\n",
       "// Listen for the removal of the full notebook cells\n",
       "var notebookContainer = gd.closest('#notebook-container');\n",
       "if (notebookContainer) {{\n",
       "    x.observe(notebookContainer, {childList: true});\n",
       "}}\n",
       "\n",
       "// Listen for the clearing of the current output cell\n",
       "var outputEl = gd.closest('.output');\n",
       "if (outputEl) {{\n",
       "    x.observe(outputEl, {childList: true});\n",
       "}}\n",
       "\n",
       "                        })                };                });            </script>        </div>"
      ]
     },
     "metadata": {},
     "output_type": "display_data"
    }
   ],
   "source": [
    "fig = go.Figure(data=[go.Sankey(\n",
    "    textfont = dict(size=32, color=\"black\"),\n",
    "    node = dict(\n",
    "        pad = 50,\n",
    "        thickness = 25,\n",
    "        line = dict(color = \"black\", width = 0.5),\n",
    "        label = [\n",
    "            \"Raw (2,747)\",\n",
    "            \"BIDS pass (2,615)\",\n",
    "            \"Preproc pass (2,136)\",\n",
    "            \"Expert QC (200)\",\n",
    "            \"Community QC (1,653)\",\n",
    "            \"NN QC (2,136)\",\n",
    "            \"Excluded (611)\",\n",
    "        ],\n",
    "        # color = \"blue\"\n",
    "    ),\n",
    "    link = dict(\n",
    "        source = [0, 1, 1, 0, 2, 3, 2, 4, 2], # indices correspond to labels, eg A1, A2, A1, B1, ...\n",
    "        target = [1, 2, 6, 6, 3, 4, 4, 5, 5],\n",
    "        value = [2615, 2136, 479, 132, 200, 200, 1453, 1653, 483],\n",
    "        \n",
    "    )\n",
    ")])\n",
    "\n",
    "fig.update_layout(title_text=\"HBN-POD2 Data Workflow\", font_size=12)\n",
    "fig.show()"
   ]
  },
  {
   "cell_type": "code",
   "execution_count": 4,
   "id": "2832c1a6",
   "metadata": {},
   "outputs": [],
   "source": [
    "fig.write_html(\"hbn-pod2-sankey.html\")"
   ]
  },
  {
   "cell_type": "code",
   "execution_count": 6,
   "id": "2cd26ecd",
   "metadata": {},
   "outputs": [],
   "source": [
    "import urllib, json\n",
    "\n",
    "url = 'https://raw.githubusercontent.com/plotly/plotly.js/master/test/image/mocks/sankey_energy.json'\n",
    "response = urllib.request.urlopen(url)\n",
    "data = json.loads(response.read())"
   ]
  },
  {
   "cell_type": "code",
   "execution_count": 7,
   "id": "2a061cca",
   "metadata": {},
   "outputs": [
    {
     "data": {
      "text/plain": [
       "{'data': [{'type': 'sankey',\n",
       "   'domain': {'x': [0, 1], 'y': [0, 1]},\n",
       "   'orientation': 'h',\n",
       "   'valueformat': '.0f',\n",
       "   'valuesuffix': 'TWh',\n",
       "   'node': {'pad': 15,\n",
       "    'thickness': 15,\n",
       "    'line': {'color': 'black', 'width': 0.5},\n",
       "    'label': [\"Agricultural 'waste'\",\n",
       "     'Bio-conversion',\n",
       "     'Liquid',\n",
       "     'Losses',\n",
       "     'Solid',\n",
       "     'Gas',\n",
       "     'Biofuel imports',\n",
       "     'Biomass imports',\n",
       "     'Coal imports',\n",
       "     'Coal',\n",
       "     'Coal reserves',\n",
       "     'District heating',\n",
       "     'Industry',\n",
       "     'Heating and cooling - commercial',\n",
       "     'Heating and cooling - homes',\n",
       "     'Electricity grid',\n",
       "     'Over generation / exports',\n",
       "     'H2 conversion',\n",
       "     'Road transport',\n",
       "     'Agriculture',\n",
       "     'Rail transport',\n",
       "     'Lighting & appliances - commercial',\n",
       "     'Lighting & appliances - homes',\n",
       "     'Gas imports',\n",
       "     'Ngas',\n",
       "     'Gas reserves',\n",
       "     'Thermal generation',\n",
       "     'Geothermal',\n",
       "     'H2',\n",
       "     'Hydro',\n",
       "     'International shipping',\n",
       "     'Domestic aviation',\n",
       "     'International aviation',\n",
       "     'National navigation',\n",
       "     'Marine algae',\n",
       "     'Nuclear',\n",
       "     'Oil imports',\n",
       "     'Oil',\n",
       "     'Oil reserves',\n",
       "     'Other waste',\n",
       "     'Pumped heat',\n",
       "     'Solar PV',\n",
       "     'Solar Thermal',\n",
       "     'Solar',\n",
       "     'Tidal',\n",
       "     'UK land based bioenergy',\n",
       "     'Wave',\n",
       "     'Wind'],\n",
       "    'color': ['rgba(31, 119, 180, 0.8)',\n",
       "     'rgba(255, 127, 14, 0.8)',\n",
       "     'rgba(44, 160, 44, 0.8)',\n",
       "     'rgba(214, 39, 40, 0.8)',\n",
       "     'rgba(148, 103, 189, 0.8)',\n",
       "     'rgba(140, 86, 75, 0.8)',\n",
       "     'rgba(227, 119, 194, 0.8)',\n",
       "     'rgba(127, 127, 127, 0.8)',\n",
       "     'rgba(188, 189, 34, 0.8)',\n",
       "     'rgba(23, 190, 207, 0.8)',\n",
       "     'rgba(31, 119, 180, 0.8)',\n",
       "     'rgba(255, 127, 14, 0.8)',\n",
       "     'rgba(44, 160, 44, 0.8)',\n",
       "     'rgba(214, 39, 40, 0.8)',\n",
       "     'rgba(148, 103, 189, 0.8)',\n",
       "     'rgba(140, 86, 75, 0.8)',\n",
       "     'rgba(227, 119, 194, 0.8)',\n",
       "     'rgba(127, 127, 127, 0.8)',\n",
       "     'rgba(188, 189, 34, 0.8)',\n",
       "     'rgba(23, 190, 207, 0.8)',\n",
       "     'rgba(31, 119, 180, 0.8)',\n",
       "     'rgba(255, 127, 14, 0.8)',\n",
       "     'rgba(44, 160, 44, 0.8)',\n",
       "     'rgba(214, 39, 40, 0.8)',\n",
       "     'rgba(148, 103, 189, 0.8)',\n",
       "     'rgba(140, 86, 75, 0.8)',\n",
       "     'rgba(227, 119, 194, 0.8)',\n",
       "     'rgba(127, 127, 127, 0.8)',\n",
       "     'rgba(188, 189, 34, 0.8)',\n",
       "     'rgba(23, 190, 207, 0.8)',\n",
       "     'rgba(31, 119, 180, 0.8)',\n",
       "     'rgba(255, 127, 14, 0.8)',\n",
       "     'rgba(44, 160, 44, 0.8)',\n",
       "     'rgba(214, 39, 40, 0.8)',\n",
       "     'rgba(148, 103, 189, 0.8)',\n",
       "     'magenta',\n",
       "     'rgba(227, 119, 194, 0.8)',\n",
       "     'rgba(127, 127, 127, 0.8)',\n",
       "     'rgba(188, 189, 34, 0.8)',\n",
       "     'rgba(23, 190, 207, 0.8)',\n",
       "     'rgba(31, 119, 180, 0.8)',\n",
       "     'rgba(255, 127, 14, 0.8)',\n",
       "     'rgba(44, 160, 44, 0.8)',\n",
       "     'rgba(214, 39, 40, 0.8)',\n",
       "     'rgba(148, 103, 189, 0.8)',\n",
       "     'rgba(140, 86, 75, 0.8)',\n",
       "     'rgba(227, 119, 194, 0.8)',\n",
       "     'rgba(127, 127, 127, 0.8)']},\n",
       "   'link': {'source': [0,\n",
       "     1,\n",
       "     1,\n",
       "     1,\n",
       "     1,\n",
       "     6,\n",
       "     7,\n",
       "     8,\n",
       "     10,\n",
       "     9,\n",
       "     11,\n",
       "     11,\n",
       "     11,\n",
       "     15,\n",
       "     15,\n",
       "     15,\n",
       "     15,\n",
       "     15,\n",
       "     15,\n",
       "     15,\n",
       "     15,\n",
       "     15,\n",
       "     15,\n",
       "     15,\n",
       "     23,\n",
       "     25,\n",
       "     5,\n",
       "     5,\n",
       "     5,\n",
       "     5,\n",
       "     5,\n",
       "     27,\n",
       "     17,\n",
       "     17,\n",
       "     28,\n",
       "     29,\n",
       "     2,\n",
       "     2,\n",
       "     2,\n",
       "     2,\n",
       "     2,\n",
       "     2,\n",
       "     2,\n",
       "     2,\n",
       "     34,\n",
       "     24,\n",
       "     35,\n",
       "     35,\n",
       "     36,\n",
       "     38,\n",
       "     37,\n",
       "     39,\n",
       "     39,\n",
       "     40,\n",
       "     40,\n",
       "     41,\n",
       "     42,\n",
       "     43,\n",
       "     43,\n",
       "     4,\n",
       "     4,\n",
       "     4,\n",
       "     26,\n",
       "     26,\n",
       "     26,\n",
       "     44,\n",
       "     45,\n",
       "     46,\n",
       "     47,\n",
       "     35,\n",
       "     35],\n",
       "    'target': [1,\n",
       "     2,\n",
       "     3,\n",
       "     4,\n",
       "     5,\n",
       "     2,\n",
       "     4,\n",
       "     9,\n",
       "     9,\n",
       "     4,\n",
       "     12,\n",
       "     13,\n",
       "     14,\n",
       "     16,\n",
       "     14,\n",
       "     17,\n",
       "     12,\n",
       "     18,\n",
       "     19,\n",
       "     13,\n",
       "     3,\n",
       "     20,\n",
       "     21,\n",
       "     22,\n",
       "     24,\n",
       "     24,\n",
       "     13,\n",
       "     3,\n",
       "     26,\n",
       "     19,\n",
       "     12,\n",
       "     15,\n",
       "     28,\n",
       "     3,\n",
       "     18,\n",
       "     15,\n",
       "     12,\n",
       "     30,\n",
       "     18,\n",
       "     31,\n",
       "     32,\n",
       "     19,\n",
       "     33,\n",
       "     20,\n",
       "     1,\n",
       "     5,\n",
       "     26,\n",
       "     26,\n",
       "     37,\n",
       "     37,\n",
       "     2,\n",
       "     4,\n",
       "     1,\n",
       "     14,\n",
       "     13,\n",
       "     15,\n",
       "     14,\n",
       "     42,\n",
       "     41,\n",
       "     19,\n",
       "     26,\n",
       "     12,\n",
       "     15,\n",
       "     3,\n",
       "     11,\n",
       "     15,\n",
       "     1,\n",
       "     15,\n",
       "     15,\n",
       "     26,\n",
       "     26],\n",
       "    'value': [124.729,\n",
       "     0.597,\n",
       "     26.862,\n",
       "     280.322,\n",
       "     81.144,\n",
       "     35,\n",
       "     35,\n",
       "     11.606,\n",
       "     63.965,\n",
       "     75.571,\n",
       "     10.639,\n",
       "     22.505,\n",
       "     46.184,\n",
       "     104.453,\n",
       "     113.726,\n",
       "     27.14,\n",
       "     342.165,\n",
       "     37.797,\n",
       "     4.412,\n",
       "     40.858,\n",
       "     56.691,\n",
       "     7.863,\n",
       "     90.008,\n",
       "     93.494,\n",
       "     40.719,\n",
       "     82.233,\n",
       "     0.129,\n",
       "     1.401,\n",
       "     151.891,\n",
       "     2.096,\n",
       "     48.58,\n",
       "     7.013,\n",
       "     20.897,\n",
       "     6.242,\n",
       "     20.897,\n",
       "     6.995,\n",
       "     121.066,\n",
       "     128.69,\n",
       "     135.835,\n",
       "     14.458,\n",
       "     206.267,\n",
       "     3.64,\n",
       "     33.218,\n",
       "     4.413,\n",
       "     14.375,\n",
       "     122.952,\n",
       "     500,\n",
       "     139.978,\n",
       "     504.287,\n",
       "     107.703,\n",
       "     611.99,\n",
       "     56.587,\n",
       "     77.81,\n",
       "     193.026,\n",
       "     70.672,\n",
       "     59.901,\n",
       "     19.263,\n",
       "     19.263,\n",
       "     59.901,\n",
       "     0.882,\n",
       "     400.12,\n",
       "     46.477,\n",
       "     525.531,\n",
       "     787.129,\n",
       "     79.329,\n",
       "     9.452,\n",
       "     182.01,\n",
       "     19.013,\n",
       "     289.366,\n",
       "     100,\n",
       "     100],\n",
       "    'color': ['rgba(0,0,96,0.2)',\n",
       "     'rgba(0,0,96,0.2)',\n",
       "     'rgba(0,0,96,0.2)',\n",
       "     'rgba(0,0,96,0.2)',\n",
       "     'rgba(0,0,96,0.2)',\n",
       "     'rgba(0,0,96,0.2)',\n",
       "     'rgba(0,0,96,0.2)',\n",
       "     'rgba(0,0,96,0.2)',\n",
       "     'rgba(0,0,96,0.2)',\n",
       "     'rgba(0,0,96,0.2)',\n",
       "     'rgba(0,0,96,0.2)',\n",
       "     'rgba(0,0,96,0.2)',\n",
       "     'rgba(0,0,96,0.2)',\n",
       "     'rgba(0,0,96,0.2)',\n",
       "     'rgba(0,0,96,0.2)',\n",
       "     'rgba(0,0,96,0.2)',\n",
       "     'rgba(0,0,96,0.2)',\n",
       "     'rgba(0,0,96,0.2)',\n",
       "     'rgba(0,0,96,0.2)',\n",
       "     'rgba(0,0,96,0.2)',\n",
       "     'rgba(0,0,96,0.2)',\n",
       "     'rgba(0,0,96,0.2)',\n",
       "     'rgba(0,0,96,0.2)',\n",
       "     'rgba(0,0,96,0.2)',\n",
       "     'rgba(0,0,96,0.2)',\n",
       "     'rgba(0,0,96,0.2)',\n",
       "     'rgba(0,0,96,0.2)',\n",
       "     'rgba(0,0,96,0.2)',\n",
       "     'rgba(0,0,96,0.2)',\n",
       "     'rgba(0,0,96,0.2)',\n",
       "     'rgba(0,0,96,0.2)',\n",
       "     'rgba(0,0,96,0.2)',\n",
       "     'rgba(0,0,96,0.2)',\n",
       "     'rgba(0,0,96,0.2)',\n",
       "     'rgba(0,0,96,0.2)',\n",
       "     'rgba(0,0,96,0.2)',\n",
       "     'rgba(0,0,96,0.2)',\n",
       "     'rgba(0,0,96,0.2)',\n",
       "     'rgba(0,0,96,0.2)',\n",
       "     'rgba(0,0,96,0.2)',\n",
       "     'rgba(0,0,96,0.2)',\n",
       "     'rgba(0,0,96,0.2)',\n",
       "     'rgba(0,0,96,0.2)',\n",
       "     'rgba(0,0,96,0.2)',\n",
       "     'rgba(0,0,96,0.2)',\n",
       "     'rgba(0,0,96,0.2)',\n",
       "     'rgba(33,102,172,0.35)',\n",
       "     'rgba(178,24,43,0.35)',\n",
       "     'rgba(0,0,96,0.2)',\n",
       "     'rgba(0,0,96,0.2)',\n",
       "     'rgba(0,0,96,0.2)',\n",
       "     'rgba(0,0,96,0.2)',\n",
       "     'rgba(0,0,96,0.2)',\n",
       "     'rgba(0,0,96,0.2)',\n",
       "     'rgba(0,0,96,0.2)',\n",
       "     'rgba(0,0,96,0.2)',\n",
       "     'rgba(0,0,96,0.2)',\n",
       "     'rgba(0,0,96,0.2)',\n",
       "     'rgba(0,0,96,0.2)',\n",
       "     'rgba(0,0,96,0.2)',\n",
       "     'rgba(0,0,96,0.2)',\n",
       "     'rgba(0,0,96,0.2)',\n",
       "     'rgba(0,0,96,0.2)',\n",
       "     'rgba(0,0,96,0.2)',\n",
       "     'rgba(0,0,96,0.2)',\n",
       "     'rgba(0,0,96,0.2)',\n",
       "     'rgba(0,0,96,0.2)',\n",
       "     'rgba(0,0,96,0.2)',\n",
       "     'rgba(0,0,96,0.2)',\n",
       "     'lightgreen',\n",
       "     'goldenrod'],\n",
       "    'label': ['stream 1',\n",
       "     '',\n",
       "     '',\n",
       "     '',\n",
       "     'stream 1',\n",
       "     '',\n",
       "     '',\n",
       "     '',\n",
       "     '',\n",
       "     '',\n",
       "     '',\n",
       "     '',\n",
       "     '',\n",
       "     '',\n",
       "     '',\n",
       "     '',\n",
       "     '',\n",
       "     '',\n",
       "     '',\n",
       "     '',\n",
       "     '',\n",
       "     '',\n",
       "     '',\n",
       "     '',\n",
       "     '',\n",
       "     '',\n",
       "     '',\n",
       "     '',\n",
       "     '',\n",
       "     '',\n",
       "     'stream 1',\n",
       "     '',\n",
       "     '',\n",
       "     '',\n",
       "     '',\n",
       "     '',\n",
       "     '',\n",
       "     '',\n",
       "     '',\n",
       "     '',\n",
       "     '',\n",
       "     '',\n",
       "     '',\n",
       "     '',\n",
       "     '',\n",
       "     '',\n",
       "     'Old generation plant (made-up)',\n",
       "     'New generation plant (made-up)',\n",
       "     '',\n",
       "     '',\n",
       "     '',\n",
       "     '',\n",
       "     '',\n",
       "     '',\n",
       "     '',\n",
       "     '',\n",
       "     '',\n",
       "     '',\n",
       "     '',\n",
       "     '',\n",
       "     '',\n",
       "     '',\n",
       "     '',\n",
       "     '',\n",
       "     '',\n",
       "     '',\n",
       "     '',\n",
       "     '',\n",
       "     '',\n",
       "     '',\n",
       "     '']}}],\n",
       " 'layout': {'title': {'text': \"Energy forecast for 2050, UK — Department of Energy & Climate Change<br>Imperfect copy of <a href='https://bost.ocks.org/mike/sankey/'>Mike Bostock's example</a><br>with numerous <a href='https://plotly.com/javascript/'>Plotly</a> features\"},\n",
       "  'width': 1118,\n",
       "  'height': 772,\n",
       "  'font': {'size': 10},\n",
       "  'updatemenus': [{'y': 1,\n",
       "    'buttons': [{'label': 'Light',\n",
       "      'method': 'relayout',\n",
       "      'args': ['paper_bgcolor', 'white']},\n",
       "     {'label': 'Dark',\n",
       "      'method': 'relayout',\n",
       "      'args': ['paper_bgcolor', 'black']}]},\n",
       "   {'y': 0.9,\n",
       "    'buttons': [{'label': 'Thick',\n",
       "      'method': 'restyle',\n",
       "      'args': ['node.thickness', 15]},\n",
       "     {'label': 'Thin', 'method': 'restyle', 'args': ['node.thickness', 8]}]},\n",
       "   {'y': 0.8,\n",
       "    'buttons': [{'label': 'Small gap',\n",
       "      'method': 'restyle',\n",
       "      'args': ['node.pad', 15]},\n",
       "     {'label': 'Large gap', 'method': 'restyle', 'args': ['node.pad', 20]}]},\n",
       "   {'y': 0.7,\n",
       "    'buttons': [{'label': 'Snap',\n",
       "      'method': 'restyle',\n",
       "      'args': ['arrangement', 'snap']},\n",
       "     {'label': 'Perpendicular',\n",
       "      'method': 'restyle',\n",
       "      'args': ['arrangement', 'perpendicular']},\n",
       "     {'label': 'Freeform',\n",
       "      'method': 'restyle',\n",
       "      'args': ['arrangement', 'freeform']},\n",
       "     {'label': 'Fixed',\n",
       "      'method': 'restyle',\n",
       "      'args': ['arrangement', 'fixed']}]},\n",
       "   {'y': 0.6,\n",
       "    'buttons': [{'label': 'Horizontal',\n",
       "      'method': 'restyle',\n",
       "      'args': ['orientation', 'h']},\n",
       "     {'label': 'Vertical',\n",
       "      'method': 'restyle',\n",
       "      'args': ['orientation', 'v']}]}]}}"
      ]
     },
     "execution_count": 7,
     "metadata": {},
     "output_type": "execute_result"
    }
   ],
   "source": [
    "data"
   ]
  },
  {
   "cell_type": "code",
   "execution_count": null,
   "id": "aa379105",
   "metadata": {},
   "outputs": [],
   "source": []
  }
 ],
 "metadata": {
  "kernelspec": {
   "display_name": "Python 3 (ipykernel)",
   "language": "python",
   "name": "python3"
  },
  "language_info": {
   "codemirror_mode": {
    "name": "ipython",
    "version": 3
   },
   "file_extension": ".py",
   "mimetype": "text/x-python",
   "name": "python",
   "nbconvert_exporter": "python",
   "pygments_lexer": "ipython3",
   "version": "3.8.12"
  }
 },
 "nbformat": 4,
 "nbformat_minor": 5
}
